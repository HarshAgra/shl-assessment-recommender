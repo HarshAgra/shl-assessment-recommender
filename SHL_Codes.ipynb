{
 "cells": [
  {
   "cell_type": "code",
   "execution_count": 2,
   "id": "eb0da4b1-350b-4e76-bda6-626bdd4e23df",
   "metadata": {},
   "outputs": [],
   "source": [
    "import pandas as pd"
   ]
  },
  {
   "cell_type": "code",
   "execution_count": 5,
   "id": "54df4884-6ca7-4ac3-8fe7-ee593229ce3a",
   "metadata": {},
   "outputs": [],
   "source": [
    "df = pd.read_excel(\"shl_tests.xlsx\")"
   ]
  },
  {
   "cell_type": "code",
   "execution_count": 6,
   "id": "245ad55e-6015-4de7-83af-c03611937260",
   "metadata": {},
   "outputs": [
    {
     "data": {
      "text/html": [
       "<div>\n",
       "<style scoped>\n",
       "    .dataframe tbody tr th:only-of-type {\n",
       "        vertical-align: middle;\n",
       "    }\n",
       "\n",
       "    .dataframe tbody tr th {\n",
       "        vertical-align: top;\n",
       "    }\n",
       "\n",
       "    .dataframe thead th {\n",
       "        text-align: right;\n",
       "    }\n",
       "</style>\n",
       "<table border=\"1\" class=\"dataframe\">\n",
       "  <thead>\n",
       "    <tr style=\"text-align: right;\">\n",
       "      <th></th>\n",
       "      <th>Assessment Name</th>\n",
       "      <th>Description</th>\n",
       "      <th>URL</th>\n",
       "      <th>Remote Testing</th>\n",
       "      <th>Duration</th>\n",
       "      <th>Test Type</th>\n",
       "    </tr>\n",
       "  </thead>\n",
       "  <tbody>\n",
       "    <tr>\n",
       "      <th>0</th>\n",
       "      <td>Adobe Experience Manager (New)</td>\n",
       "      <td>Multi-choice test that measures the knowledge ...</td>\n",
       "      <td>https://www.shl.com/solutions/products/product...</td>\n",
       "      <td>Yes</td>\n",
       "      <td>17 minutes</td>\n",
       "      <td>K</td>\n",
       "    </tr>\n",
       "    <tr>\n",
       "      <th>1</th>\n",
       "      <td>Adobe Photoshop CC</td>\n",
       "      <td>The Adobe Photoshop CC test measures knowledge...</td>\n",
       "      <td>https://www.shl.com/solutions/products/product...</td>\n",
       "      <td>Yes</td>\n",
       "      <td>20 minutes</td>\n",
       "      <td>K</td>\n",
       "    </tr>\n",
       "    <tr>\n",
       "      <th>2</th>\n",
       "      <td>Aeronautical Engineering (New)</td>\n",
       "      <td>Multi-choice test that measures the knowledge ...</td>\n",
       "      <td>https://www.shl.com/solutions/products/product...</td>\n",
       "      <td>Yes</td>\n",
       "      <td>10 minutes</td>\n",
       "      <td>K</td>\n",
       "    </tr>\n",
       "    <tr>\n",
       "      <th>3</th>\n",
       "      <td>Aerospace Engineering (New)</td>\n",
       "      <td>Multi-choice test that measures the conceptual...</td>\n",
       "      <td>https://www.shl.com/solutions/products/product...</td>\n",
       "      <td>Yes</td>\n",
       "      <td>10 minutes</td>\n",
       "      <td>K</td>\n",
       "    </tr>\n",
       "    <tr>\n",
       "      <th>4</th>\n",
       "      <td>Agile Software Development</td>\n",
       "      <td>Multi-choice test that measures the knowledge ...</td>\n",
       "      <td>https://www.shl.com/solutions/products/product...</td>\n",
       "      <td>Yes</td>\n",
       "      <td>Not found</td>\n",
       "      <td>K</td>\n",
       "    </tr>\n",
       "  </tbody>\n",
       "</table>\n",
       "</div>"
      ],
      "text/plain": [
       "                  Assessment Name  \\\n",
       "0  Adobe Experience Manager (New)   \n",
       "1              Adobe Photoshop CC   \n",
       "2  Aeronautical Engineering (New)   \n",
       "3     Aerospace Engineering (New)   \n",
       "4      Agile Software Development   \n",
       "\n",
       "                                         Description  \\\n",
       "0  Multi-choice test that measures the knowledge ...   \n",
       "1  The Adobe Photoshop CC test measures knowledge...   \n",
       "2  Multi-choice test that measures the knowledge ...   \n",
       "3  Multi-choice test that measures the conceptual...   \n",
       "4  Multi-choice test that measures the knowledge ...   \n",
       "\n",
       "                                                 URL Remote Testing  \\\n",
       "0  https://www.shl.com/solutions/products/product...            Yes   \n",
       "1  https://www.shl.com/solutions/products/product...            Yes   \n",
       "2  https://www.shl.com/solutions/products/product...            Yes   \n",
       "3  https://www.shl.com/solutions/products/product...            Yes   \n",
       "4  https://www.shl.com/solutions/products/product...            Yes   \n",
       "\n",
       "     Duration Test Type  \n",
       "0  17 minutes         K  \n",
       "1  20 minutes         K  \n",
       "2  10 minutes         K  \n",
       "3  10 minutes         K  \n",
       "4   Not found         K  "
      ]
     },
     "execution_count": 6,
     "metadata": {},
     "output_type": "execute_result"
    }
   ],
   "source": [
    "df.head()"
   ]
  },
  {
   "cell_type": "code",
   "execution_count": 7,
   "id": "00cdfda7-c114-4be8-8b01-c815a852eea8",
   "metadata": {},
   "outputs": [],
   "source": [
    "df = df.dropna(subset=['Assessment Name', 'Description'])\n",
    "df = df.fillna('N/A')\n",
    "data = df.to_dict(orient='records')"
   ]
  },
  {
   "cell_type": "markdown",
   "id": "a563a530-92ae-4542-9036-31a28628c696",
   "metadata": {},
   "source": [
    "## Step 2: Embed the Descriptions Using a Text Embedding Model"
   ]
  },
  {
   "cell_type": "code",
   "execution_count": 8,
   "id": "41413827-5435-4580-827f-41f846ba58aa",
   "metadata": {},
   "outputs": [
    {
     "name": "stderr",
     "output_type": "stream",
     "text": [
      "C:\\Users\\HP\\AppData\\Local\\Programs\\Python\\Python312\\Lib\\site-packages\\tqdm\\auto.py:21: TqdmWarning: IProgress not found. Please update jupyter and ipywidgets. See https://ipywidgets.readthedocs.io/en/stable/user_install.html\n",
      "  from .autonotebook import tqdm as notebook_tqdm\n",
      "C:\\Users\\HP\\AppData\\Local\\Programs\\Python\\Python312\\Lib\\site-packages\\huggingface_hub\\file_download.py:142: UserWarning: `huggingface_hub` cache-system uses symlinks by default to efficiently store duplicated files but your machine does not support them in C:\\Users\\HP\\.cache\\huggingface\\hub\\models--sentence-transformers--all-MiniLM-L6-v2. Caching files will still work but in a degraded version that might require more space on your disk. This warning can be disabled by setting the `HF_HUB_DISABLE_SYMLINKS_WARNING` environment variable. For more details, see https://huggingface.co/docs/huggingface_hub/how-to-cache#limitations.\n",
      "To support symlinks on Windows, you either need to activate Developer Mode or to run Python as an administrator. In order to activate developer mode, see this article: https://docs.microsoft.com/en-us/windows/apps/get-started/enable-your-device-for-development\n",
      "  warnings.warn(message)\n",
      "Batches: 100%|███████████████████████████████████████████████████████████████████████████| 1/1 [00:00<00:00,  1.19it/s]\n"
     ]
    }
   ],
   "source": [
    "from sentence_transformers import SentenceTransformer\n",
    "\n",
    "model = SentenceTransformer('all-MiniLM-L6-v2')\n",
    "descriptions = [item['Description'] for item in data]\n",
    "embeddings = model.encode(descriptions, show_progress_bar=True)"
   ]
  },
  {
   "cell_type": "code",
   "execution_count": 9,
   "id": "0a5c5fa3-5166-4525-a81d-6cdb6cc0372f",
   "metadata": {},
   "outputs": [
    {
     "data": {
      "text/plain": [
       "array([[-0.00088001, -0.03840558, -0.00837101, ..., -0.03682839,\n",
       "        -0.05852675, -0.00376767],\n",
       "       [-0.01923871,  0.00951021,  0.01012801, ...,  0.01862345,\n",
       "        -0.00336232,  0.02133397],\n",
       "       [ 0.08047848, -0.05689639, -0.01991648, ..., -0.01301624,\n",
       "        -0.09166525,  0.03044293],\n",
       "       ...,\n",
       "       [ 0.00998266,  0.02559538, -0.02432171, ...,  0.00880277,\n",
       "         0.01266969, -0.01123319],\n",
       "       [-0.07703921,  0.02433646,  0.01084779, ...,  0.01548038,\n",
       "        -0.0081068 , -0.03208848],\n",
       "       [ 0.02948253, -0.04839161, -0.04197101, ..., -0.00515717,\n",
       "        -0.01163711, -0.02531304]], dtype=float32)"
      ]
     },
     "execution_count": 9,
     "metadata": {},
     "output_type": "execute_result"
    }
   ],
   "source": [
    "embeddings"
   ]
  },
  {
   "cell_type": "markdown",
   "id": "a1ad7c5c-63b7-4ea6-b80e-b50fa224150f",
   "metadata": {},
   "source": [
    "## Step 3: Build a Semantic Search Function"
   ]
  },
  {
   "cell_type": "code",
   "execution_count": 10,
   "id": "e909c441-b7e6-4a73-96de-eeea60adefeb",
   "metadata": {},
   "outputs": [],
   "source": [
    "from sklearn.metrics.pairwise import cosine_similarity\n",
    "import numpy as np\n",
    "\n",
    "def get_top_n(query, n=10):\n",
    "    query_embedding = model.encode([query])\n",
    "    sims = cosine_similarity(query_embedding, embeddings)[0]\n",
    "    top_indices = np.argsort(sims)[::-1][:n]\n",
    "    return [data[i] for i in top_indices]"
   ]
  },
  {
   "cell_type": "markdown",
   "id": "67abab38-1c9b-43dd-bd48-179b655fb80b",
   "metadata": {},
   "source": [
    "## Step 4: Build a REST API"
   ]
  },
  {
   "cell_type": "code",
   "execution_count": 12,
   "id": "69250b9a-52fd-4fde-81e9-8ec3078a03e8",
   "metadata": {},
   "outputs": [
    {
     "name": "stdout",
     "output_type": "stream",
     "text": [
      "Collecting fastapi\n",
      "  Downloading fastapi-0.115.12-py3-none-any.whl.metadata (27 kB)\n",
      "Collecting uvicorn\n",
      "  Downloading uvicorn-0.34.0-py3-none-any.whl.metadata (6.5 kB)\n",
      "Collecting starlette<0.47.0,>=0.40.0 (from fastapi)\n",
      "  Downloading starlette-0.46.1-py3-none-any.whl.metadata (6.2 kB)\n",
      "Requirement already satisfied: pydantic!=1.8,!=1.8.1,!=2.0.0,!=2.0.1,!=2.1.0,<3.0.0,>=1.7.4 in c:\\users\\hp\\appdata\\local\\programs\\python\\python312\\lib\\site-packages (from fastapi) (2.10.6)\n",
      "Requirement already satisfied: typing-extensions>=4.8.0 in c:\\users\\hp\\appdata\\local\\programs\\python\\python312\\lib\\site-packages (from fastapi) (4.12.2)\n",
      "Requirement already satisfied: click>=7.0 in c:\\users\\hp\\appdata\\local\\programs\\python\\python312\\lib\\site-packages (from uvicorn) (8.1.7)\n",
      "Requirement already satisfied: h11>=0.8 in c:\\users\\hp\\appdata\\local\\programs\\python\\python312\\lib\\site-packages (from uvicorn) (0.14.0)\n",
      "Requirement already satisfied: colorama in c:\\users\\hp\\appdata\\local\\programs\\python\\python312\\lib\\site-packages (from click>=7.0->uvicorn) (0.4.6)\n",
      "Requirement already satisfied: annotated-types>=0.6.0 in c:\\users\\hp\\appdata\\local\\programs\\python\\python312\\lib\\site-packages (from pydantic!=1.8,!=1.8.1,!=2.0.0,!=2.0.1,!=2.1.0,<3.0.0,>=1.7.4->fastapi) (0.7.0)\n",
      "Requirement already satisfied: pydantic-core==2.27.2 in c:\\users\\hp\\appdata\\local\\programs\\python\\python312\\lib\\site-packages (from pydantic!=1.8,!=1.8.1,!=2.0.0,!=2.0.1,!=2.1.0,<3.0.0,>=1.7.4->fastapi) (2.27.2)\n",
      "Requirement already satisfied: anyio<5,>=3.6.2 in c:\\users\\hp\\appdata\\local\\programs\\python\\python312\\lib\\site-packages (from starlette<0.47.0,>=0.40.0->fastapi) (4.4.0)\n",
      "Requirement already satisfied: idna>=2.8 in c:\\users\\hp\\appdata\\local\\programs\\python\\python312\\lib\\site-packages (from anyio<5,>=3.6.2->starlette<0.47.0,>=0.40.0->fastapi) (3.7)\n",
      "Requirement already satisfied: sniffio>=1.1 in c:\\users\\hp\\appdata\\local\\programs\\python\\python312\\lib\\site-packages (from anyio<5,>=3.6.2->starlette<0.47.0,>=0.40.0->fastapi) (1.3.1)\n",
      "Downloading fastapi-0.115.12-py3-none-any.whl (95 kB)\n",
      "Downloading uvicorn-0.34.0-py3-none-any.whl (62 kB)\n",
      "Downloading starlette-0.46.1-py3-none-any.whl (71 kB)\n",
      "Installing collected packages: uvicorn, starlette, fastapi\n",
      "Successfully installed fastapi-0.115.12 starlette-0.46.1 uvicorn-0.34.0\n",
      "Note: you may need to restart the kernel to use updated packages.\n"
     ]
    },
    {
     "name": "stderr",
     "output_type": "stream",
     "text": [
      "WARNING: Ignoring invalid distribution ~ip (C:\\Users\\HP\\AppData\\Local\\Programs\\Python\\Python312\\Lib\\site-packages)\n",
      "WARNING: Ignoring invalid distribution ~ip (C:\\Users\\HP\\AppData\\Local\\Programs\\Python\\Python312\\Lib\\site-packages)\n",
      "WARNING: Ignoring invalid distribution ~ip (C:\\Users\\HP\\AppData\\Local\\Programs\\Python\\Python312\\Lib\\site-packages)\n"
     ]
    }
   ],
   "source": [
    "pip install fastapi uvicorn"
   ]
  },
  {
   "cell_type": "code",
   "execution_count": 13,
   "id": "2aa71e21-53e5-4bde-902e-af24437ecb29",
   "metadata": {},
   "outputs": [],
   "source": [
    "from fastapi import FastAPI, Request\n",
    "from pydantic import BaseModel\n",
    "\n",
    "app = FastAPI()\n",
    "\n",
    "class Query(BaseModel):\n",
    "    text: str\n",
    "\n",
    "@app.post(\"/recommend\")\n",
    "def recommend(query: Query):\n",
    "    results = get_top_n(query.text)\n",
    "    return results"
   ]
  },
  {
   "cell_type": "markdown",
   "id": "792e4f04-52e9-487b-b6e0-3591cab3df43",
   "metadata": {},
   "source": [
    "## Step 5: Build a Web UI for Demo"
   ]
  },
  {
   "cell_type": "code",
   "execution_count": 14,
   "id": "e41abc2e-3db5-4bd7-a6f5-0e6344f8ccfc",
   "metadata": {},
   "outputs": [
    {
     "name": "stderr",
     "output_type": "stream",
     "text": [
      "2025-04-05 14:24:34.652 WARNING streamlit.runtime.scriptrunner_utils.script_run_context: Thread 'MainThread': missing ScriptRunContext! This warning can be ignored when running in bare mode.\n",
      "2025-04-05 14:24:35.317 \n",
      "  \u001b[33m\u001b[1mWarning:\u001b[0m to view this Streamlit app on a browser, run it with the following\n",
      "  command:\n",
      "\n",
      "    streamlit run C:\\Users\\HP\\AppData\\Local\\Programs\\Python\\Python312\\Lib\\site-packages\\ipykernel_launcher.py [ARGUMENTS]\n",
      "2025-04-05 14:24:35.318 Thread 'MainThread': missing ScriptRunContext! This warning can be ignored when running in bare mode.\n",
      "2025-04-05 14:24:35.320 Thread 'MainThread': missing ScriptRunContext! This warning can be ignored when running in bare mode.\n",
      "2025-04-05 14:24:35.323 Thread 'MainThread': missing ScriptRunContext! This warning can be ignored when running in bare mode.\n",
      "2025-04-05 14:24:35.325 Thread 'MainThread': missing ScriptRunContext! This warning can be ignored when running in bare mode.\n",
      "2025-04-05 14:24:35.329 Thread 'MainThread': missing ScriptRunContext! This warning can be ignored when running in bare mode.\n",
      "2025-04-05 14:24:35.331 Session state does not function when running a script without `streamlit run`\n",
      "2025-04-05 14:24:35.331 Thread 'MainThread': missing ScriptRunContext! This warning can be ignored when running in bare mode.\n",
      "2025-04-05 14:24:35.333 Thread 'MainThread': missing ScriptRunContext! This warning can be ignored when running in bare mode.\n",
      "2025-04-05 14:24:35.335 Thread 'MainThread': missing ScriptRunContext! This warning can be ignored when running in bare mode.\n",
      "2025-04-05 14:24:35.339 Thread 'MainThread': missing ScriptRunContext! This warning can be ignored when running in bare mode.\n",
      "2025-04-05 14:24:35.341 Thread 'MainThread': missing ScriptRunContext! This warning can be ignored when running in bare mode.\n",
      "2025-04-05 14:24:35.344 Thread 'MainThread': missing ScriptRunContext! This warning can be ignored when running in bare mode.\n",
      "2025-04-05 14:24:35.346 Thread 'MainThread': missing ScriptRunContext! This warning can be ignored when running in bare mode.\n"
     ]
    }
   ],
   "source": [
    "import streamlit as st\n",
    "\n",
    "st.title(\"SHL Assessment Recommender\")\n",
    "user_input = st.text_area(\"Enter job description or role\")\n",
    "\n",
    "if st.button(\"Get Recommendations\"):\n",
    "    results = get_top_n(user_input)\n",
    "    st.table(pd.DataFrame(results))"
   ]
  },
  {
   "cell_type": "code",
   "execution_count": null,
   "id": "6afb7085-a01a-4173-a65b-4b5f5241eb93",
   "metadata": {},
   "outputs": [],
   "source": []
  }
 ],
 "metadata": {
  "kernelspec": {
   "display_name": "Python 3 (ipykernel)",
   "language": "python",
   "name": "python3"
  },
  "language_info": {
   "codemirror_mode": {
    "name": "ipython",
    "version": 3
   },
   "file_extension": ".py",
   "mimetype": "text/x-python",
   "name": "python",
   "nbconvert_exporter": "python",
   "pygments_lexer": "ipython3",
   "version": "3.12.4"
  }
 },
 "nbformat": 4,
 "nbformat_minor": 5
}
